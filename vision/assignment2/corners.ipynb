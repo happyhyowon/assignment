{
 "cells": [
  {
   "cell_type": "code",
   "execution_count": 2,
   "metadata": {},
   "outputs": [],
   "source": [
    "import matplotlib as mpl\n",
    "import matplotlib.pyplot as plt\n",
    "import time\n",
    "import numpy as np"
   ]
  },
  {
   "cell_type": "code",
   "execution_count": 3,
   "metadata": {},
   "outputs": [],
   "source": [
    "# RGB2GRAY\n",
    "def rgb2gray(rgb):\n",
    "    return np.dot(rgb[..., :3], [0.2989, 0.5870, 0.1140])"
   ]
  },
  {
   "cell_type": "code",
   "execution_count": 4,
   "metadata": {},
   "outputs": [],
   "source": [
    "def conv2d(img, kernel, padding='same'):\n",
    "    # Error handling\n",
    "    if kernel.shape[0] != kernel.shape[1]:\n",
    "        print(\"Use square filter!\")\n",
    "        return None\n",
    "    \n",
    "    if kernel.shape[0]%2 == 0 and kernel.shape[1]%2 == 0:\n",
    "        print(\"filter size has to be odd\")\n",
    "        return None\n",
    "    \n",
    "    # Create result matrix\n",
    "    result = np.zeros_like(img)\n",
    "    \n",
    "    # Calculate kernel size\n",
    "    kernel_size = kernel.shape[0]\n",
    "    \n",
    "    # same padding\n",
    "    if padding=='same':\n",
    "        pad_size = int((kernel_size - 1) / 2)\n",
    "    else:\n",
    "        pad_size = 0\n",
    "    img = np.pad(img, pad_size, mode='constant')\n",
    "    \n",
    "    # convolution\n",
    "    width, height = img.shape\n",
    "    offset = int(kernel_size / 2)\n",
    "    for x in range(offset, width-offset):\n",
    "        for y in range(offset, height-offset):\n",
    "            result[x-offset, y-offset] = np.sum(img[x-offset:x+offset+1, y-offset:y+offset+1] * kernel)\n",
    "            \n",
    "    return result"
   ]
  },
  {
   "cell_type": "code",
   "execution_count": 5,
   "metadata": {},
   "outputs": [],
   "source": [
    "def grad_x(img):\n",
    "    sobel_x = np.array([[-1, 0, 1], [-2, 0, 2], [-1, 0, 1]])\n",
    "    return conv2d(img, kernel=sobel_x)"
   ]
  },
  {
   "cell_type": "code",
   "execution_count": 6,
   "metadata": {},
   "outputs": [],
   "source": [
    "def grad_y(img):\n",
    "    sobel_y = np.array([[1, 2, 1], [0, 0, 0], [-1, -2, -1]])\n",
    "    return conv2d(img, kernel=sobel_y)"
   ]
  },
  {
   "cell_type": "code",
   "execution_count": 7,
   "metadata": {},
   "outputs": [],
   "source": [
    "def cornerDetect(img, winSize=7, type=0):\n",
    "    \"\"\"\n",
    "    Parameters:\n",
    "        img = image (grayscale)\n",
    "        winSize = total size of window for summation in pixels,\n",
    "        type = {0 - Eigenvalue, 1 - Harris}\n",
    "    \"\"\"\n",
    "    # create empty matrix for result\n",
    "    result = np.zeros_like(img)\n",
    "    \n",
    "    # get image size\n",
    "    width, height = img.shape\n",
    "    \n",
    "    # compute derivatives using sobel kernel\n",
    "    I_x = grad_x(img)\n",
    "    I_y = grad_y(img)\n",
    "    \n",
    "    # For each pixel in img, determine second moment matrix H summed up over the window\n",
    "    Ixx = I_x ** 2\n",
    "    Ixy = I_y * I_x\n",
    "    Iyy = I_y ** 2\n",
    "    \n",
    "    # Create matrix for saving second moment\n",
    "    Sxx = np.zeros_like(Ixx)\n",
    "    Sxy = np.zeros_like(Ixy)\n",
    "    Syy = np.zeros_like(Iyy)\n",
    "    \n",
    "    # same padding\n",
    "    pad_size = int((winSize - 1) / 2)\n",
    "    Ixx = np.pad(Ixx, pad_size, mode='constant')\n",
    "    Ixy = np.pad(Ixy, pad_size, mode='constant')\n",
    "    Iyy = np.pad(Iyy, pad_size, mode='constant')\n",
    "    \n",
    "    # Calculate second moment matrix H summed up over the window\n",
    "    offset = int(winSize / 2)\n",
    "    for x in range(offset, width-offset):\n",
    "        for y in range(offset, height-offset):\n",
    "            Sxx[x-offset, y-offset] = np.sum(Ixx[x-offset:x+offset+1, y-offset:y+offset+1])\n",
    "            Sxy[x-offset, y-offset] = np.sum(Ixy[x-offset:x+offset+1, y-offset:y+offset+1])\n",
    "            Syy[x-offset, y-offset] = np.sum(Iyy[x-offset:x+offset+1, y-offset:y+offset+1])\n",
    "    \n",
    "    # Eigenvalue\n",
    "    if type==0:\n",
    "        pass\n",
    "    # Harris\n",
    "    elif type==1:\n",
    "        det = (Sxx * Syy) - (Sxy**2)\n",
    "        trace = Sxx + Syy\n",
    "        r = det - 0.04*(trace**2)\n",
    "        result = r\n",
    "        \n",
    "    return result"
   ]
  },
  {
   "cell_type": "code",
   "execution_count": 8,
   "metadata": {},
   "outputs": [
    {
     "data": {
      "text/plain": [
       "<matplotlib.image.AxesImage at 0x25f9648b198>"
      ]
     },
     "execution_count": 8,
     "metadata": {},
     "output_type": "execute_result"
    },
    {
     "data": {
      "image/png": "[encoded data removed]",
      "text/plain": [
       "<matplotlib.figure.Figure at 0x25f9632df28>"
      ]
     },
     "metadata": {
      "needs_background": "light"
     },
     "output_type": "display_data"
    }
   ],
   "source": [
    "# read image\n",
    "img = mpl.image.imread(\"img74.gif\")\n",
    "img = rgb2gray(img)\n",
    "result = cornerDetect(img, winSize=7, type=1)\n",
    "plt.imshow(result, cmap='gray')"
   ]
  }
 ],
 "metadata": {
  "kernelspec": {
   "display_name": "Python 3",
   "language": "python",
   "name": "python3"
  },
  "language_info": {
   "codemirror_mode": {
    "name": "ipython",
    "version": 3
   },
   "file_extension": ".py",
   "mimetype": "text/x-python",
   "name": "python",
   "nbconvert_exporter": "python",
   "pygments_lexer": "ipython3",
   "version": "3.6.8"
  }
 },
 "nbformat": 4,
 "nbformat_minor": 2
}
