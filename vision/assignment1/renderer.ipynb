{
 "cells": [
  {
   "cell_type": "markdown",
   "metadata": {
    "colab_type": "text",
    "id": "view-in-github"
   },
   "source": [
    "<a href=\"https://colab.research.google.com/github/hyo1happy/assignment/blob/master/vision/assignment1/renderer.ipynb\" target=\"_parent\"><img src=\"https://colab.research.google.com/assets/colab-badge.svg\" alt=\"Open In Colab\"/></a>"
   ]
  },
  {
   "cell_type": "code",
   "execution_count": 1,
   "metadata": {
    "colab": {
     "base_uri": "https://localhost:8080/",
     "height": 35
    },
    "colab_type": "code",
    "id": "iI3a-xUVpjrI",
    "outputId": "69788f51-18e6-456f-a4d8-74e306cbb244"
   },
   "outputs": [
    {
     "data": {
      "text/plain": [
       "\"\\n rederer : This code is simple software renderer that will transform \\n           an object's 3D coordinates into a 2D picture that is viewed from floting in space\\n           \\n create   : 2019/10/01\\n modified : 2019/10/03\\n\""
      ]
     },
     "execution_count": 1,
     "metadata": {},
     "output_type": "execute_result"
    }
   ],
   "source": [
    "\"\"\"\n",
    " rederer : This code is simple software renderer that will transform \n",
    "           an object's 3D coordinates into a 2D picture that is viewed from floting in space\n",
    "           \n",
    " create   : 2019/10/01\n",
    " modified : 2019/10/03\n",
    "\"\"\""
   ]
  },
  {
   "cell_type": "code",
   "execution_count": 2,
   "metadata": {
    "colab": {},
    "colab_type": "code",
    "id": "6PFpBmm-pjrL"
   },
   "outputs": [],
   "source": [
    "import matplotlib as mpl\n",
    "from mpl_toolkits.mplot3d import Axes3D\n",
    "import matplotlib.pyplot as plt\n",
    "import numpy as np # this is the only math library,\n",
    "#you are allowed to import!!\n",
    "from math import atan, sin, cos"
   ]
  },
  {
   "cell_type": "code",
   "execution_count": 3,
   "metadata": {
    "colab": {},
    "colab_type": "code",
    "id": "mltPQNOqpjrN"
   },
   "outputs": [],
   "source": [
    "def show_2d(vertices, edges, size):\n",
    "    fig = plt.figure()\n",
    "    ax = fig.gca()\n",
    "    for edge in edges:\n",
    "        p1 = vertices[edge[0]]        \n",
    "        p2 = vertices[edge[1]]\n",
    "        ax.plot([p1[0], p2[0]], \n",
    "                [p1[1], p2[1]])\n",
    "    ax.set_xlim(0, size[0])\n",
    "    ax.set_ylim(0, size[1])\n",
    "    plt.show()"
   ]
  },
  {
   "cell_type": "code",
   "execution_count": 4,
   "metadata": {
    "colab": {},
    "colab_type": "code",
    "id": "aLc3HHEBpjrP"
   },
   "outputs": [],
   "source": [
    "def show_3d(vertices, edges):\n",
    "    fig = plt.figure()\n",
    "    ax = fig.gca(projection='3d')\n",
    "    for edge in edges:\n",
    "        p1 = vertices[edge[0]]\n",
    "        p2 = vertices[edge[1]]\n",
    "        ax.plot([p1[0], p2[0]], \n",
    "                [p1[1], p2[1]], \n",
    "                [p1[2], p2[2]])\n",
    "    ax.set_ylim(-5, 5)\n",
    "    ax.set_xlim(-5, 5)\n",
    "    ax.set_zlim(-5, 5)\n",
    "    plt.show()"
   ]
  },
  {
   "cell_type": "code",
   "execution_count": 5,
   "metadata": {
    "colab": {},
    "colab_type": "code",
    "id": "QiB1iu8epjrR"
   },
   "outputs": [],
   "source": [
    "## global valiable\n",
    "gVerbose = False # for debugging"
   ]
  },
  {
   "cell_type": "markdown",
   "metadata": {
    "colab_type": "text",
    "id": "4JNG5JJopjrS"
   },
   "source": [
    "#### 1. Define a cube as a numpy array with 8 corners"
   ]
  },
  {
   "cell_type": "code",
   "execution_count": 6,
   "metadata": {
    "colab": {},
    "colab_type": "code",
    "id": "vtHhWYrvpjrT"
   },
   "outputs": [],
   "source": [
    "vertices = np.array([[-1, -1, -1],\n",
    "                     [1, -1, -1],\n",
    "                     [1, 1, -1],\n",
    "                     [-1, 1, -1],\n",
    "                     [-1, -1, 1],\n",
    "                     [1, -1, 1],\n",
    "                     [1, 1, 1],\n",
    "                     [-1, 1, 1]])\n",
    "\n",
    "edges = [(0,1), (2,3), (4,5), (6,7), \n",
    "         (0,3), (1,2), (4,7), (5,6),\n",
    "         (0,4), (1,5), (2,6), (3,7)]"
   ]
  },
  {
   "cell_type": "markdown",
   "metadata": {
    "colab_type": "text",
    "id": "NrNnBtnQpjrU"
   },
   "source": [
    "#### 2. Insert code that shows the cube using the function show_3d."
   ]
  },
  {
   "cell_type": "code",
   "execution_count": 7,
   "metadata": {
    "colab": {
     "base_uri": "https://localhost:8080/",
     "height": 248
    },
    "colab_type": "code",
    "id": "Cveaz4RupjrV",
    "outputId": "8315172f-2268-48f1-f829-ea944aa04543"
   },
   "outputs": [
    {
     "data": {
      "image/png": "[encoded data removed]",
      "text/plain": [
       "<Figure size 432x288 with 1 Axes>"
      ]
     },
     "metadata": {
      "needs_background": "light"
     },
     "output_type": "display_data"
    }
   ],
   "source": [
    "show_3d(vertices, edges)"
   ]
  },
  {
   "cell_type": "markdown",
   "metadata": {
    "colab_type": "text",
    "id": "miHaU6u9pjrX"
   },
   "source": [
    "#### 3. the extrinsic parameters of the camera"
   ]
  },
  {
   "cell_type": "code",
   "execution_count": 8,
   "metadata": {
    "colab": {},
    "colab_type": "code",
    "id": "LB472X8opjrY"
   },
   "outputs": [],
   "source": [
    "## to given camera position & orientation\n",
    "camera_position = np.array([0, 0, -3])\n",
    "camera_orientation = np.array([0, 0.1, 0])"
   ]
  },
  {
   "cell_type": "code",
   "execution_count": 9,
   "metadata": {
    "colab": {},
    "colab_type": "code",
    "id": "l3BITwVhpjrZ"
   },
   "outputs": [],
   "source": [
    "## to/from homogenous function\n",
    "# general addition dimention form (2D -> 3D -> 4d ...)\n",
    "def to_homogenous(points, verbose=None):\n",
    "    return_matrix = np.hstack([points, np.ones((points.shape[0], 1))])\n",
    "    if verbose==True:\n",
    "        print('to_homogenous{}->{} : \\n{}\\n->\\n{}\\n'.format(points.shape,return_matrix.shape,points,return_matrix))\n",
    "    return return_matrix\n",
    "\n",
    "# general reduced dimension form (4D -> 3D -> 2d ...)\n",
    "def from_homogenous(points, verbose=None):\n",
    "    return_matrix = points[:, :points.shape[1]-1]/points[:, points.shape[1]-1].reshape(-1,1)\n",
    "    if verbose==True:\n",
    "        print('from_homogenous{}->{} : \\n{}\\n->\\n{}\\n'.format(points.shape,return_matrix.shape,points,return_matrix))\n",
    "    return return_matrix"
   ]
  },
  {
   "cell_type": "code",
   "execution_count": 10,
   "metadata": {
    "colab": {},
    "colab_type": "code",
    "id": "fxU65y_hpjrb"
   },
   "outputs": [],
   "source": [
    "## to return the final 4x4 extrinsic matrix that can convert homogenous coordinates\n",
    "def get_extrinsic_matrix(position, orientation, verbose=None):\n",
    "    # 1. making translation matrix\n",
    "    I3x3 = np.array([[1, 0, 0],\n",
    "                     [0, 1, 0],\n",
    "                     [0, 0, 1]])\n",
    "    c = -position\n",
    "    T = np.vstack([np.hstack([I3x3, c.reshape(c.shape[0], 1)]), [0, 0, 0, 1]])\n",
    "    if verbose==True:\n",
    "        print('1. trans T{} : \\n{}\\n'.format(T.shape, T))\n",
    "    # 2. making rotation matrix\n",
    "    \" fixed vector u & get theta\"\n",
    "    u = [0, 0, 0]\n",
    "    theta = 0\n",
    "    if orientation[0] != 0:\n",
    "        u[0] = 1\n",
    "        theta = orientation[0]\n",
    "    elif orientation[1] != 0:\n",
    "        u[1] = 1\n",
    "        theta = orientation[1]\n",
    "    elif orientation[2] != 0:\n",
    "        u[2] = 1\n",
    "        theta = orientation[2]\n",
    "    ux = u[0]\n",
    "    uy = u[1]\n",
    "    uz = u[2]\n",
    "    if verbose==True:\n",
    "        print('2.1 vector u : {}\\ntheta(radian) : {}\\n'.format(u, theta))\n",
    "    # making rotation matrix\n",
    "    R3x3 = np.array([[cos(theta)+(ux**2)*(1-cos(theta)), ux*uy*(1-cos(theta))-uz*sin(theta), ux*uz*(1-cos(theta))+uy*sin(theta)],\n",
    "                     [uy*uz*(1-cos(theta))+uz*sin(theta), cos(theta)+(uy**2)*(1-cos(theta)), uy*uz*(1-cos(theta))-uz*sin(theta)],\n",
    "                     [uz*ux*(1-cos(theta))-uy*sin(theta), uz*uy*(1-cos(theta))+uz*sin(theta), cos(theta)+(uz**2)*(1-cos(theta))]])\n",
    "    R = np.vstack([np.hstack([R3x3, np.zeros((R3x3.shape[0], 1))]), [0, 0, 0, 1]])\n",
    "    return_matrix = np.dot(R, T)\n",
    "    if verbose==True:\n",
    "        print('2.2 rotation R{} : \\n{}\\n'.format(R.shape,R))\n",
    "        print('2.3 extrinsic{} : \\n{}\\n'.format(return_matrix.shape, return_matrix))\n",
    "    return return_matrix"
   ]
  },
  {
   "cell_type": "code",
   "execution_count": 11,
   "metadata": {
    "colab": {
     "base_uri": "https://localhost:8080/",
     "height": 395
    },
    "colab_type": "code",
    "id": "ExbBNUc1pjrc",
    "outputId": "01bc9e78-152c-47d7-82bb-c5fe8a0bf3b5"
   },
   "outputs": [],
   "source": [
    "extrinsic = get_extrinsic_matrix(camera_position, camera_orientation, verbose=gVerbose)"
   ]
  },
  {
   "cell_type": "code",
   "execution_count": 12,
   "metadata": {
    "colab": {
     "base_uri": "https://localhost:8080/",
     "height": 359
    },
    "colab_type": "code",
    "id": "nqf056cNpjre",
    "outputId": "62b53cdd-577f-491a-ea44-38c38566335f",
    "scrolled": true
   },
   "outputs": [],
   "source": [
    "result_extrinsic = np.dot(extrinsic, to_homogenous(vertices, verbose=gVerbose).T)"
   ]
  },
  {
   "cell_type": "markdown",
   "metadata": {
    "colab_type": "text",
    "id": "Kys0zciXpjrg"
   },
   "source": [
    "#### 4. show the extrinsic result using show_3d."
   ]
  },
  {
   "cell_type": "code",
   "execution_count": 13,
   "metadata": {
    "colab": {
     "base_uri": "https://localhost:8080/",
     "height": 248
    },
    "colab_type": "code",
    "id": "UrFgnw7Spjrg",
    "outputId": "35e960f1-a687-4340-dac0-d0248c921692"
   },
   "outputs": [
    {
     "data": {
      "image/png": "[encoded data removed]",
      "text/plain": [
       "<Figure size 432x288 with 1 Axes>"
      ]
     },
     "metadata": {
      "needs_background": "light"
     },
     "output_type": "display_data"
    }
   ],
   "source": [
    "show_3d(result_extrinsic.T, edges)"
   ]
  },
  {
   "cell_type": "markdown",
   "metadata": {
    "colab_type": "text",
    "id": "cLYi3ZGvpjri"
   },
   "source": [
    "#### 5. Make a function get_intrinsic_matrix(f,s) that creates the full intrinsic transformation including the projection matrix 3x4"
   ]
  },
  {
   "cell_type": "code",
   "execution_count": 14,
   "metadata": {
    "colab": {},
    "colab_type": "code",
    "id": "8yZxGnAbpjri"
   },
   "outputs": [],
   "source": [
    "## given scale f, point sx, sy value about intrinsic matrix\n",
    "pixel = 200\n",
    "f = 0.5\n",
    "s = np.array([0.5, 0.5])\n",
    "## define projection matrix 3x4\n",
    "projection = np.array([[1, 0, 0, 0],\n",
    "                       [0, 1, 0, 0],\n",
    "                       [0, 0, 1, 0]])"
   ]
  },
  {
   "cell_type": "code",
   "execution_count": 15,
   "metadata": {
    "colab": {},
    "colab_type": "code",
    "id": "6o9F3AKQpjrk"
   },
   "outputs": [],
   "source": [
    "# making intrinsic matrix\n",
    "def get_intrinsic_matrix(f, s, verbose=None):\n",
    "    K = np.array([[f, 0, s[0]],\n",
    "                  [0, f, s[1]],\n",
    "                  [0, 0, 1]])\n",
    "    if verbose==True:\n",
    "        print('3. intrinsic K{} : \\n{}'.format(K.shape, K))\n",
    "    return K"
   ]
  },
  {
   "cell_type": "code",
   "execution_count": 16,
   "metadata": {
    "colab": {
     "base_uri": "https://localhost:8080/",
     "height": 89
    },
    "colab_type": "code",
    "id": "yRG1gTIlpjrl",
    "outputId": "a8449213-d361-4e51-c46a-c19e0f5b73f5"
   },
   "outputs": [],
   "source": [
    "intrinsic = get_intrinsic_matrix(f, s, verbose=gVerbose)"
   ]
  },
  {
   "cell_type": "markdown",
   "metadata": {
    "colab_type": "text",
    "id": "wBjod6hIpjrn"
   },
   "source": [
    "#### 6. transform the camera coordinates into 2D-coordinates."
   ]
  },
  {
   "cell_type": "code",
   "execution_count": 17,
   "metadata": {
    "colab": {
     "base_uri": "https://localhost:8080/",
     "height": 359
    },
    "colab_type": "code",
    "id": "0MYrlV4mpjrn",
    "outputId": "be8739aa-5500-4fc7-d138-0db657eafbd0"
   },
   "outputs": [],
   "source": [
    "## transform =  intrinsic * projection * rotation * translation * x\n",
    "transform = np.dot(intrinsic, np.dot(projection, result_extrinsic))\n",
    "## [x, y, w] => [x/w, y/w]\n",
    "transform2D = from_homogenous(transform.T, verbose=gVerbose)"
   ]
  },
  {
   "cell_type": "markdown",
   "metadata": {
    "colab_type": "text",
    "id": "yKtKgnsKpjrp"
   },
   "source": [
    "#### 7. multiply all points by 200."
   ]
  },
  {
   "cell_type": "code",
   "execution_count": 18,
   "metadata": {
    "colab": {},
    "colab_type": "code",
    "id": "JXfzDhM2pjrq"
   },
   "outputs": [],
   "source": [
    "pixelsx200 = transform2D * (pixel, pixel) # element-wise"
   ]
  },
  {
   "cell_type": "markdown",
   "metadata": {
    "colab_type": "text",
    "id": "_UPsx9QYpjrs"
   },
   "source": [
    "#### 8. the image and plot the result using show_2d."
   ]
  },
  {
   "cell_type": "code",
   "execution_count": 19,
   "metadata": {
    "colab": {
     "base_uri": "https://localhost:8080/",
     "height": 269
    },
    "colab_type": "code",
    "id": "MKeyEINNpjrt",
    "outputId": "de2b5dce-2fa8-4ce6-c455-543a2f6e3606"
   },
   "outputs": [
    {
     "data": {
      "image/png": "[encoded data removed]",
      "text/plain": [
       "<Figure size 432x288 with 1 Axes>"
      ]
     },
     "metadata": {
      "needs_background": "light"
     },
     "output_type": "display_data"
    }
   ],
   "source": [
    "show_2d(pixelsx200, edges, (pixel, pixel))"
   ]
  },
  {
   "cell_type": "code",
   "execution_count": null,
   "metadata": {
    "colab": {},
    "colab_type": "code",
    "id": "vk8x9OMkpjrw"
   },
   "outputs": [],
   "source": []
  }
 ],
 "metadata": {
  "colab": {
   "include_colab_link": true,
   "name": "renderer.ipynb",
   "provenance": []
  },
  "kernelspec": {
   "display_name": "torchflow",
   "language": "python",
   "name": "torchflow"
  },
  "language_info": {
   "codemirror_mode": {
    "name": "ipython",
    "version": 3
   },
   "file_extension": ".py",
   "mimetype": "text/x-python",
   "name": "python",
   "nbconvert_exporter": "python",
   "pygments_lexer": "ipython3",
   "version": "3.7.3"
  }
 },
 "nbformat": 4,
 "nbformat_minor": 1
}
