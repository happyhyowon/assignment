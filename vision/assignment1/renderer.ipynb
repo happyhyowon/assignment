{
  "nbformat": 4,
  "nbformat_minor": 0,
  "metadata": {
    "kernelspec": {
      "display_name": "torchflow",
      "language": "python",
      "name": "torchflow"
    },
    "language_info": {
      "codemirror_mode": {
        "name": "ipython",
        "version": 3
      },
      "file_extension": ".py",
      "mimetype": "text/x-python",
      "name": "python",
      "nbconvert_exporter": "python",
      "pygments_lexer": "ipython3",
      "version": "3.7.3"
    },
    "colab": {
      "name": "renderer.ipynb",
      "provenance": [],
      "include_colab_link": true
    }
  },
  "cells": [
    {
      "cell_type": "markdown",
      "metadata": {
        "id": "view-in-github",
        "colab_type": "text"
      },
      "source": [
        "<a href=\"https://colab.research.google.com/github/hyo1happy/assignment/blob/master/vision/assignment1/renderer.ipynb\" target=\"_parent\"><img src=\"https://colab.research.google.com/assets/colab-badge.svg\" alt=\"Open In Colab\"/></a>"
      ]
    },
    {
      "cell_type": "code",
      "metadata": {
        "id": "iI3a-xUVpjrI",
        "colab_type": "code",
        "colab": {
          "base_uri": "https://localhost:8080/",
          "height": 35
        },
        "outputId": "69788f51-18e6-456f-a4d8-74e306cbb244"
      },
      "source": [
        "\"\"\"\n",
        " rederer : This code is simple software renderer that will transform \n",
        "           an object's 3D coordinates into a 2D picture that is viewed from floting in space\n",
        "           \n",
        " create   : 2019/10/01\n",
        " modified : 2019/10/03\n",
        "\"\"\""
      ],
      "execution_count": 1,
      "outputs": [
        {
          "output_type": "execute_result",
          "data": {
            "text/plain": [
              "\"\\n rederer : This code is simple software renderer that will transform \\n           an object's 3D coordinates into a 2D picture that is viewed from floting in space\\n           \\n create   : 2019/10/01\\n modified : 2019/10/03\\n\""
            ]
          },
          "metadata": {
            "tags": []
          },
          "execution_count": 1
        }
      ]
    },
    {
      "cell_type": "code",
      "metadata": {
        "id": "6PFpBmm-pjrL",
        "colab_type": "code",
        "colab": {}
      },
      "source": [
        "import matplotlib as mpl\n",
        "from mpl_toolkits.mplot3d import Axes3D\n",
        "import matplotlib.pyplot as plt\n",
        "import numpy as np # this is the only math library,\n",
        "#you are allowed to import!!\n",
        "from math import atan, sin, cos"
      ],
      "execution_count": 0,
      "outputs": []
    },
    {
      "cell_type": "code",
      "metadata": {
        "id": "mltPQNOqpjrN",
        "colab_type": "code",
        "colab": {}
      },
      "source": [
        "def show_2d(vertices, edges, size):\n",
        "    fig = plt.figure()\n",
        "    ax = fig.gca()\n",
        "    for edge in edges:\n",
        "        p1 = vertices[edge[0]]        \n",
        "        p2 = vertices[edge[1]]\n",
        "        ax.plot([p1[0], p2[0]], \n",
        "                [p1[1], p2[1]])\n",
        "    ax.set_xlim(0, size[0])\n",
        "    ax.set_ylim(0, size[1])\n",
        "    plt.show()"
      ],
      "execution_count": 0,
      "outputs": []
    },
    {
      "cell_type": "code",
      "metadata": {
        "id": "aLc3HHEBpjrP",
        "colab_type": "code",
        "colab": {}
      },
      "source": [
        "def show_3d(vertices, edges):\n",
        "    fig = plt.figure()\n",
        "    ax = fig.gca(projection='3d')\n",
        "    for edge in edges:\n",
        "        p1 = vertices[edge[0]]\n",
        "        p2 = vertices[edge[1]]\n",
        "        ax.plot([p1[0], p2[0]], \n",
        "                [p1[1], p2[1]], \n",
        "                [p1[2], p2[2]])\n",
        "    ax.set_ylim(-5, 5)\n",
        "    ax.set_xlim(-5, 5)\n",
        "    ax.set_zlim(-5, 5)\n",
        "    plt.show()"
      ],
      "execution_count": 0,
      "outputs": []
    },
    {
      "cell_type": "code",
      "metadata": {
        "id": "QiB1iu8epjrR",
        "colab_type": "code",
        "colab": {}
      },
      "source": [
        "# global valiable\n",
        "gVerbose = True # for debugging"
      ],
      "execution_count": 0,
      "outputs": []
    },
    {
      "cell_type": "markdown",
      "metadata": {
        "id": "4JNG5JJopjrS",
        "colab_type": "text"
      },
      "source": [
        "#### 1. Define a cube as a numpy array with 8 corners"
      ]
    },
    {
      "cell_type": "code",
      "metadata": {
        "id": "vtHhWYrvpjrT",
        "colab_type": "code",
        "colab": {}
      },
      "source": [
        "vertices = np.array([[-1, -1, -1],\n",
        "                     [1, -1, -1],\n",
        "                     [1, 1, -1],\n",
        "                     [-1, 1, -1],\n",
        "                     [-1, -1, 1],\n",
        "                     [1, -1, 1],\n",
        "                     [1, 1, 1],\n",
        "                     [-1, 1, 1]])\n",
        "\n",
        "edges = [(0,1), (2,3), (4,5), (6,7), \n",
        "         (0,3), (1,2), (4,7), (5,6),\n",
        "         (0,4), (1,5), (2,6), (3,7)]"
      ],
      "execution_count": 0,
      "outputs": []
    },
    {
      "cell_type": "markdown",
      "metadata": {
        "id": "NrNnBtnQpjrU",
        "colab_type": "text"
      },
      "source": [
        "#### 2. Insert code that shows the cube using the function show_3d."
      ]
    },
    {
      "cell_type": "code",
      "metadata": {
        "id": "Cveaz4RupjrV",
        "colab_type": "code",
        "colab": {
          "base_uri": "https://localhost:8080/",
          "height": 248
        },
        "outputId": "8315172f-2268-48f1-f829-ea944aa04543"
      },
      "source": [
        "show_3d(vertices, edges)"
      ],
      "execution_count": 7,
      "outputs": [
        {
          "output_type": "display_data",
          "data": {
            "image/png": "[encoded data removed]",
            "text/plain": [
              "<Figure size 432x288 with 1 Axes>"
            ]
          },
          "metadata": {
            "tags": []
          }
        }
      ]
    },
    {
      "cell_type": "markdown",
      "metadata": {
        "id": "miHaU6u9pjrX",
        "colab_type": "text"
      },
      "source": [
        "#### 3. the extrinsic parameters of the camera"
      ]
    },
    {
      "cell_type": "code",
      "metadata": {
        "id": "LB472X8opjrY",
        "colab_type": "code",
        "colab": {}
      },
      "source": [
        "# to given camera position & orientation\n",
        "camera_position = np.array([0, 0, -3])\n",
        "camera_orientation = np.array([0, 0.1, 0])"
      ],
      "execution_count": 0,
      "outputs": []
    },
    {
      "cell_type": "code",
      "metadata": {
        "id": "l3BITwVhpjrZ",
        "colab_type": "code",
        "colab": {}
      },
      "source": [
        "## to/from homogenous function\n",
        "# general addition dimention form (2D -> 3D -> 4d ...)\n",
        "def to_homogenous(points, verbose=None):\n",
        "    return_matrix = np.hstack([points, np.ones((points.shape[0], 1))])\n",
        "    if verbose==True:\n",
        "        print('to_homogenous{}->{} : \\n{}\\n->\\n{}\\n'.format(points.shape,return_matrix.shape,points,return_matrix))\n",
        "    return return_matrix\n",
        "\n",
        "# general reduced dimension form (4D -> 3D -> 2d ...)\n",
        "def from_homogenous(points, verbose=None):\n",
        "    return_matrix = points[:, :points.shape[1]-1]/points[:, points.shape[1]-1].reshape(-1,1)\n",
        "    if verbose==True:\n",
        "        print('from_homogenous{}->{} : \\n{}\\n->\\n{}\\n'.format(points.shape,return_matrix.shape,points,return_matrix))\n",
        "    return return_matrix"
      ],
      "execution_count": 0,
      "outputs": []
    },
    {
      "cell_type": "code",
      "metadata": {
        "id": "fxU65y_hpjrb",
        "colab_type": "code",
        "colab": {}
      },
      "source": [
        "# to return the final 4x4 extrinsic matrix that can convert homogenous coordinates\n",
        "def get_extrinsic_matrix(position, orientation, verbose=None):\n",
        "    # 1. making translation matrix\n",
        "    I3x3 = np.array([[1, 0, 0],\n",
        "                     [0, 1, 0],\n",
        "                     [0, 0, 1]])\n",
        "    c = -position\n",
        "    T = np.vstack([np.hstack([I3x3, c.reshape(c.shape[0], 1)]), [0, 0, 0, 1]])\n",
        "    if verbose==True:\n",
        "        print('1. trans T{} : \\n{}\\n'.format(T.shape, T))\n",
        "    # 2. making rotation matrix\n",
        "    \" fixed vector u & get theta\"\n",
        "    u = [0, 0, 0]\n",
        "    theta = 0\n",
        "    if orientation[0] != 0:\n",
        "        u[0] = 1\n",
        "        theta = orientation[0]\n",
        "    elif orientation[1] != 0:\n",
        "        u[1] = 1\n",
        "        theta = orientation[1]\n",
        "    elif orientation[2] != 0:\n",
        "        u[2] = 1\n",
        "        theta = orientation[2]\n",
        "    ux = u[0]\n",
        "    uy = u[1]\n",
        "    uz = u[2]\n",
        "    if verbose==True:\n",
        "        print('2.1 vector u : {}\\ntheta(radian) : {}\\n'.format(u, theta))\n",
        "    # making rotation matrix\n",
        "    R3x3 = np.array([[cos(theta)+(ux**2)*(1-cos(theta)), ux*uy*(1-cos(theta))-uz*sin(theta), ux*uz*(1-cos(theta))+uy*sin(theta)],\n",
        "                     [uy*uz*(1-cos(theta))+uz*sin(theta), cos(theta)+(uy**2)*(1-cos(theta)), uy*uz*(1-cos(theta))-uz*sin(theta)],\n",
        "                     [uz*ux*(1-cos(theta))-uy*sin(theta), uz*uy*(1-cos(theta))+uz*sin(theta), cos(theta)+(uz**2)*(1-cos(theta))]])\n",
        "    R = np.vstack([np.hstack([R3x3, np.zeros((R3x3.shape[0], 1))]), [0, 0, 0, 1]])\n",
        "    return_matrix = np.dot(R, T)\n",
        "    if verbose==True:\n",
        "        print('2.2 rotation R{} : \\n{}\\n'.format(R.shape,R))\n",
        "        print('2.3 extrinsic{} : \\n{}\\n'.format(return_matrix.shape, return_matrix))\n",
        "    return return_matrix"
      ],
      "execution_count": 0,
      "outputs": []
    },
    {
      "cell_type": "code",
      "metadata": {
        "id": "ExbBNUc1pjrc",
        "colab_type": "code",
        "colab": {
          "base_uri": "https://localhost:8080/",
          "height": 395
        },
        "outputId": "01bc9e78-152c-47d7-82bb-c5fe8a0bf3b5"
      },
      "source": [
        "extrinsic = get_extrinsic_matrix(camera_position, camera_orientation, verbose=gVerbose)"
      ],
      "execution_count": 11,
      "outputs": [
        {
          "output_type": "stream",
          "text": [
            "1. trans T(4, 4) : \n",
            "[[1 0 0 0]\n",
            " [0 1 0 0]\n",
            " [0 0 1 3]\n",
            " [0 0 0 1]]\n",
            "\n",
            "2.1 vector u : [0, 1, 0]\n",
            "theta(radian) : 0.1\n",
            "\n",
            "2.2 rotation R(4, 4) : \n",
            "[[ 0.99500417  0.          0.09983342  0.        ]\n",
            " [ 0.          1.          0.          0.        ]\n",
            " [-0.09983342  0.          0.99500417  0.        ]\n",
            " [ 0.          0.          0.          1.        ]]\n",
            "\n",
            "2.3 extrinsic(4, 4) : \n",
            "[[ 0.99500417  0.          0.09983342  0.29950025]\n",
            " [ 0.          1.          0.          0.        ]\n",
            " [-0.09983342  0.          0.99500417  2.9850125 ]\n",
            " [ 0.          0.          0.          1.        ]]\n",
            "\n"
          ],
          "name": "stdout"
        }
      ]
    },
    {
      "cell_type": "code",
      "metadata": {
        "scrolled": true,
        "id": "nqf056cNpjre",
        "colab_type": "code",
        "colab": {
          "base_uri": "https://localhost:8080/",
          "height": 359
        },
        "outputId": "62b53cdd-577f-491a-ea44-38c38566335f"
      },
      "source": [
        "result_extrinsic = np.dot(extrinsic, to_homogenous(vertices, verbose=gVerbose).T)"
      ],
      "execution_count": 12,
      "outputs": [
        {
          "output_type": "stream",
          "text": [
            "to_homogenous(8, 3)->(8, 4) : \n",
            "[[-1 -1 -1]\n",
            " [ 1 -1 -1]\n",
            " [ 1  1 -1]\n",
            " [-1  1 -1]\n",
            " [-1 -1  1]\n",
            " [ 1 -1  1]\n",
            " [ 1  1  1]\n",
            " [-1  1  1]]\n",
            "->\n",
            "[[-1. -1. -1.  1.]\n",
            " [ 1. -1. -1.  1.]\n",
            " [ 1.  1. -1.  1.]\n",
            " [-1.  1. -1.  1.]\n",
            " [-1. -1.  1.  1.]\n",
            " [ 1. -1.  1.  1.]\n",
            " [ 1.  1.  1.  1.]\n",
            " [-1.  1.  1.  1.]]\n",
            "\n"
          ],
          "name": "stdout"
        }
      ]
    },
    {
      "cell_type": "markdown",
      "metadata": {
        "id": "Kys0zciXpjrg",
        "colab_type": "text"
      },
      "source": [
        "#### 4. show the extrinsic result using show_3d."
      ]
    },
    {
      "cell_type": "code",
      "metadata": {
        "id": "UrFgnw7Spjrg",
        "colab_type": "code",
        "colab": {
          "base_uri": "https://localhost:8080/",
          "height": 248
        },
        "outputId": "35e960f1-a687-4340-dac0-d0248c921692"
      },
      "source": [
        "show_3d(result_extrinsic.T, edges)"
      ],
      "execution_count": 13,
      "outputs": [
        {
          "output_type": "display_data",
          "data": {
            "image/png": "[encoded data removed]",
            "text/plain": [
              "<Figure size 432x288 with 1 Axes>"
            ]
          },
          "metadata": {
            "tags": []
          }
        }
      ]
    },
    {
      "cell_type": "markdown",
      "metadata": {
        "id": "cLYi3ZGvpjri",
        "colab_type": "text"
      },
      "source": [
        "#### 5. Make a function get_intrinsic_matrix(f,s) that creates the full intrinsic transformation including the projection matrix 3x4"
      ]
    },
    {
      "cell_type": "code",
      "metadata": {
        "id": "8yZxGnAbpjri",
        "colab_type": "code",
        "colab": {}
      },
      "source": [
        "# given scale f, point sx, sy value about intrinsic matrix\n",
        "pixel = 200\n",
        "f = 0.5\n",
        "s = np.array([0.5, 0.5])\n",
        "# define projection matrix 3x4\n",
        "projection = np.array([[1, 0, 0, 0],\n",
        "                       [0, 1, 0, 0],\n",
        "                       [0, 0, 1, 0]])"
      ],
      "execution_count": 0,
      "outputs": []
    },
    {
      "cell_type": "code",
      "metadata": {
        "id": "6o9F3AKQpjrk",
        "colab_type": "code",
        "colab": {}
      },
      "source": [
        "# making intrinsic matrix\n",
        "def get_intrinsic_matrix(f, s, verbose=None):\n",
        "    K = np.array([[f, 0, s[0]],\n",
        "                  [0, f, s[1]],\n",
        "                  [0, 0, 1]])\n",
        "    if verbose==True:\n",
        "        print('3. intrinsic K{} : \\n{}'.format(K.shape, K))\n",
        "    return K"
      ],
      "execution_count": 0,
      "outputs": []
    },
    {
      "cell_type": "code",
      "metadata": {
        "id": "yRG1gTIlpjrl",
        "colab_type": "code",
        "colab": {
          "base_uri": "https://localhost:8080/",
          "height": 89
        },
        "outputId": "a8449213-d361-4e51-c46a-c19e0f5b73f5"
      },
      "source": [
        "intrinsic = get_intrinsic_matrix(f, s, verbose=gVerbose)"
      ],
      "execution_count": 16,
      "outputs": [
        {
          "output_type": "stream",
          "text": [
            "3. intrinsic K(3, 3) : \n",
            "[[0.5 0.  0.5]\n",
            " [0.  0.5 0.5]\n",
            " [0.  0.  1. ]]\n"
          ],
          "name": "stdout"
        }
      ]
    },
    {
      "cell_type": "markdown",
      "metadata": {
        "id": "wBjod6hIpjrn",
        "colab_type": "text"
      },
      "source": [
        "#### 6. transform the camera coordinates into 2D-coordinates."
      ]
    },
    {
      "cell_type": "code",
      "metadata": {
        "id": "0MYrlV4mpjrn",
        "colab_type": "code",
        "colab": {
          "base_uri": "https://localhost:8080/",
          "height": 359
        },
        "outputId": "be8739aa-5500-4fc7-d138-0db657eafbd0"
      },
      "source": [
        "# transform =  intrinsic * projection * rotation * translation * x\n",
        "transform = np.dot(intrinsic, np.dot(projection, result_extrinsic))\n",
        "# [x, y, w] => [x/w, y/w]\n",
        "transform2D = from_homogenous(transform.T, verbose=gVerbose)"
      ],
      "execution_count": 17,
      "outputs": [
        {
          "output_type": "stream",
          "text": [
            "from_homogenous(8, 3)->(8, 2) : \n",
            "[[0.64725221 0.54492087 2.08984175]\n",
            " [1.54242296 0.44508746 1.89017491]\n",
            " [1.54242296 1.44508746 1.89017491]\n",
            " [0.64725221 1.54492087 2.08984175]\n",
            " [1.74208979 1.53992504 4.07985008]\n",
            " [2.63726054 1.44009162 3.88018324]\n",
            " [2.63726054 2.44009162 3.88018324]\n",
            " [1.74208979 2.53992504 4.07985008]]\n",
            "->\n",
            "[[0.3097135  0.26074743]\n",
            " [0.81602128 0.23547422]\n",
            " [0.81602128 0.76452578]\n",
            " [0.3097135  0.73925257]\n",
            " [0.42699848 0.37744648]\n",
            " [0.67967422 0.37114011]\n",
            " [0.67967422 0.62885989]\n",
            " [0.42699848 0.62255352]]\n",
            "\n"
          ],
          "name": "stdout"
        }
      ]
    },
    {
      "cell_type": "markdown",
      "metadata": {
        "id": "yKtKgnsKpjrp",
        "colab_type": "text"
      },
      "source": [
        "#### 7. multiply all points by 200."
      ]
    },
    {
      "cell_type": "code",
      "metadata": {
        "id": "JXfzDhM2pjrq",
        "colab_type": "code",
        "colab": {}
      },
      "source": [
        "pixelsx200 = transform2D * (pixel, pixel)"
      ],
      "execution_count": 0,
      "outputs": []
    },
    {
      "cell_type": "markdown",
      "metadata": {
        "id": "_UPsx9QYpjrs",
        "colab_type": "text"
      },
      "source": [
        "#### 8. the image and plot the result using show_2d."
      ]
    },
    {
      "cell_type": "code",
      "metadata": {
        "id": "MKeyEINNpjrt",
        "colab_type": "code",
        "colab": {
          "base_uri": "https://localhost:8080/",
          "height": 269
        },
        "outputId": "de2b5dce-2fa8-4ce6-c455-543a2f6e3606"
      },
      "source": [
        "show_2d(pixelsx200, edges, (pixel, pixel))"
      ],
      "execution_count": 19,
      "outputs": [
        {
          "output_type": "display_data",
          "data": {
            "image/png": "[encoded data removed]",
            "text/plain": [
              "<Figure size 432x288 with 1 Axes>"
            ]
          },
          "metadata": {
            "tags": []
          }
        }
      ]
    },
    {
      "cell_type": "code",
      "metadata": {
        "id": "vk8x9OMkpjrw",
        "colab_type": "code",
        "colab": {}
      },
      "source": [
        ""
      ],
      "execution_count": 0,
      "outputs": []
    }
  ]
}