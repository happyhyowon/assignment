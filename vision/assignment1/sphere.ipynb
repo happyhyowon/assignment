{
 "cells": [
  {
   "cell_type": "code",
   "execution_count": 36,
   "metadata": {},
   "outputs": [],
   "source": [
    "%matplotlib inline\n",
    "import matplotlib as mpl\n",
    "import matplotlib.pyplot as plt\n",
    "from matplotlib import animation, rc\n",
    "from IPython.display import HTML\n",
    "import numpy as np\n",
    "from math import cos\n",
    "import time\n",
    "\n",
    "# path for ffmpeg\n",
    "plt.rcParams['animation.ffmpeg_path'] = '/usr/bin/ffmpeg'"
   ]
  },
  {
   "cell_type": "code",
   "execution_count": 37,
   "metadata": {},
   "outputs": [],
   "source": [
    "def render_sphere(r, I, albedo=1):\n",
    "    x, y = np.meshgrid(np.linspace(-r, r, 2*r), np.linspace(-r, r, 2*r))\n",
    "    \n",
    "    # partial derivative for x and y\n",
    "    p = -x / np.sqrt(r**2 - (x**2 + y**2))\n",
    "    q = -y / np.sqrt(r**2 - (x**2 + y**2))\n",
    "    \n",
    "    # calculate image brightness\n",
    "    R = (albedo * (-I[0]*p - I[1]*q + I[2])) / np.sqrt(1 + p**2 + q**2)\n",
    "    \n",
    "    # mask out\n",
    "    mask = ((r**2 - (x**2 + y**2) >= 0));\n",
    "    R = R * mask\n",
    "    E = np.maximum(R, np.zeros_like(R))\n",
    "    E[np.isnan(E)] = 0\n",
    "    \n",
    "    # normalize\n",
    "    E = E / np.max(E)\n",
    "    \n",
    "    return E"
   ]
  },
  {
   "cell_type": "code",
   "execution_count": 38,
   "metadata": {},
   "outputs": [
    {
     "name": "stderr",
     "output_type": "stream",
     "text": [
      "/opt/conda/lib/python3.6/site-packages/ipykernel_launcher.py:5: RuntimeWarning: invalid value encountered in sqrt\n",
      "  \"\"\"\n",
      "/opt/conda/lib/python3.6/site-packages/ipykernel_launcher.py:6: RuntimeWarning: invalid value encountered in sqrt\n",
      "  \n"
     ]
    },
    {
     "data": {
      "text/plain": [
       "<Figure size 432x288 with 0 Axes>"
      ]
     },
     "metadata": {},
     "output_type": "display_data"
    }
   ],
   "source": [
    "# radius\n",
    "r = 50\n",
    "\n",
    "# illumination\n",
    "I = [[i, 0, 0.98] for i in np.arange(0, 1, 0.01)]\n",
    "snapshots = [render_sphere(r, i) for i in I]\n",
    "\n",
    "fig = plt.figure()"
   ]
  },
  {
   "cell_type": "code",
   "execution_count": 39,
   "metadata": {},
   "outputs": [
    {
     "data": {
      "image/png": "[encoded data removed]",
      "text/plain": [
       "<Figure size 432x288 with 1 Axes>"
      ]
     },
     "metadata": {
      "needs_background": "light"
     },
     "output_type": "display_data"
    }
   ],
   "source": [
    "im = plt.imshow(snapshots[0], cmap='gray', animated=True)"
   ]
  },
  {
   "cell_type": "code",
   "execution_count": 40,
   "metadata": {},
   "outputs": [],
   "source": [
    "# function for animation\n",
    "def animate_func(i):\n",
    "    im.set_array(snapshots[i])\n",
    "    im.set_cmap('gray')\n",
    "    return im,"
   ]
  },
  {
   "cell_type": "code",
   "execution_count": 41,
   "metadata": {},
   "outputs": [],
   "source": [
    "import matplotlib.pyplot as plt\n",
    "import matplotlib.animation as animation\n",
    "\n",
    "anim = animation.FuncAnimation(fig,\n",
    "                               animate_func,\n",
    "                               interval=50,\n",
    "                               blit=True)"
   ]
  },
  {
   "cell_type": "code",
   "execution_count": 43,
   "metadata": {},
   "outputs": [],
   "source": [
    "rc('animation', html='html5')"
   ]
  },
  {
   "cell_type": "code",
   "execution_count": 44,
   "metadata": {},
   "outputs": [
    {
     "data": {
      "text/html": [
       "<video width=\"432\" height=\"288\" controls autoplay loop>\n",
       "  <source type=\"video/mp4\" src=\"data:video/mp4;base64,AAAAHGZ0eXBNNFYgAAACAGlzb21pc28yYXZjMQAAAAhmcmVlAAAKCG1kYXQAAAKuBgX//6rcRem9\n",
       "5tlIt5Ys2CDZI+7veDI2NCAtIGNvcmUgMTUyIHIyODU0IGU5YTU5MDMgLSBILjI2NC9NUEVHLTQg\n",
       "QVZDIGNvZGVjIC0gQ29weWxlZnQgMjAwMy0yMDE3IC0gaHR0cDovL3d3dy52aWRlb2xhbi5vcmcv\n",
       "eDI2NC5odG1sIC0gb3B0aW9uczogY2FiYWM9MSByZWY9MyBkZWJsb2NrPTE6MDowIGFuYWx5c2U9\n",
       "MHgzOjB4MTEzIG1lPWhleCBzdWJtZT03IHBzeT0xIHBzeV9yZD0xLjAwOjAuMDAgbWl4ZWRfcmVm\n",
       "PTEgbWVfcmFuZ2U9MTYgY2hyb21hX21lPTEgdHJlbGxpcz0xIDh4OGRjdD0xIGNxbT0wIGRlYWR6\n",
       "b25lPTIxLDExIGZhc3RfcHNraXA9MSBjaHJvbWFfcXBfb2Zmc2V0PS0yIHRocmVhZHM9MyBsb29r\n",
       "YWhlYWRfdGhyZWFkcz0xIHNsaWNlZF90aHJlYWRzPTAgbnI9MCBkZWNpbWF0ZT0xIGludGVybGFj\n",
       "ZWQ9MCBibHVyYXlfY29tcGF0PTAgY29uc3RyYWluZWRfaW50cmE9MCBiZnJhbWVzPTMgYl9weXJh\n",
       "bWlkPTIgYl9hZGFwdD0xIGJfYmlhcz0wIGRpcmVjdD0xIHdlaWdodGI9MSBvcGVuX2dvcD0wIHdl\n",
       "aWdodHA9MiBrZXlpbnQ9MjUwIGtleWludF9taW49MjAgc2NlbmVjdXQ9NDAgaW50cmFfcmVmcmVz\n",
       "aD0wIHJjX2xvb2thaGVhZD00MCByYz1jcmYgbWJ0cmVlPTEgY3JmPTIzLjAgcWNvbXA9MC42MCBx\n",
       "cG1pbj0wIHFwbWF4PTY5IHFwc3RlcD00IGlwX3JhdGlvPTEuNDAgYXE9MToxLjAwAIAAAABEZYiE\n",
       "AD///vdonwKbWkN6gOSVxSXbT4H/q2dwfI/pAwAAAwAArqxz6KZIGF3rxgACbgAFbHIkzharlpvd\n",
       "cRlNTgAABb0AAAAPQZokbEP//qmWAAADAPCAAAAADEGeQniGfwAAAwDUgQAAAAsBnmF0Qr8AAAMB\n",
       "iwAAAAsBnmNqQr8AAAMBiwAAABVBmmhJqEFomUwIf//+qZYAAAMA8IEAAAAOQZ6GRREsM/8AAAMA\n",
       "1IEAAAALAZ6ldEK/AAADAYsAAAALAZ6nakK/AAADAYsAAAAVQZqsSahBbJlMCH///qmWAAADAPCA\n",
       "AAAADkGeykUVLDP/AAADANSBAAAACwGe6XRCvwAAAwGLAAAACwGe62pCvwAAAwGLAAAAFUGa8Emo\n",
       "QWyZTAh///6plgAAAwDwgQAAAA5Bnw5FFSwz/wAAAwDUgQAAAAsBny10Qr8AAAMBiwAAAAsBny9q\n",
       "Qr8AAAMBiwAAABVBmzRJqEFsmUwIf//+qZYAAAMA8IAAAAAOQZ9SRRUsM/8AAAMA1IEAAAALAZ9x\n",
       "dEK/AAADAYsAAAALAZ9zakK/AAADAYsAAAAVQZt4SahBbJlMCH///qmWAAADAPCBAAAADkGflkUV\n",
       "LDP/AAADANSAAAAACwGftXRCvwAAAwGLAAAACwGft2pCvwAAAwGLAAAAFUGbvEmoQWyZTAh///6p\n",
       "lgAAAwDwgAAAAA5Bn9pFFSwz/wAAAwDUgQAAAAsBn/l0Qr8AAAMBiwAAAAsBn/tqQr8AAAMBiwAA\n",
       "ABVBm+BJqEFsmUwIf//+qZYAAAMA8IEAAAAOQZ4eRRUsM/8AAAMA1IAAAAALAZ49dEK/AAADAYsA\n",
       "AAALAZ4/akK/AAADAYsAAAAVQZokSahBbJlMCH///qmWAAADAPCAAAAADkGeQkUVLDP/AAADANSB\n",
       "AAAACwGeYXRCvwAAAwGLAAAACwGeY2pCvwAAAwGLAAAAFUGaaEmoQWyZTAh///6plgAAAwDwgQAA\n",
       "AA5BnoZFFSwz/wAAAwDUgQAAAAsBnqV0Qr8AAAMBiwAAAAsBnqdqQr8AAAMBiwAAABVBmqxJqEFs\n",
       "mUwIf//+qZYAAAMA8IAAAAAOQZ7KRRUsM/8AAAMA1IEAAAALAZ7pdEK/AAADAYsAAAALAZ7rakK/\n",
       "AAADAYsAAAAVQZrwSahBbJlMCH///qmWAAADAPCBAAAADkGfDkUVLDP/AAADANSBAAAACwGfLXRC\n",
       "vwAAAwGLAAAACwGfL2pCvwAAAwGLAAAAFUGbNEmoQWyZTAh///6plgAAAwDwgAAAAA5Bn1JFFSwz\n",
       "/wAAAwDUgQAAAAsBn3F0Qr8AAAMBiwAAAAsBn3NqQr8AAAMBiwAAABVBm3hJqEFsmUwIf//+qZYA\n",
       "AAMA8IEAAAAOQZ+WRRUsM/8AAAMA1IAAAAALAZ+1dEK/AAADAYsAAAALAZ+3akK/AAADAYsAAAAV\n",
       "QZu8SahBbJlMCH///qmWAAADAPCAAAAADkGf2kUVLDP/AAADANSBAAAACwGf+XRCvwAAAwGLAAAA\n",
       "CwGf+2pCvwAAAwGLAAAAFUGb4EmoQWyZTAh///6plgAAAwDwgQAAAA5Bnh5FFSwz/wAAAwDUgAAA\n",
       "AAsBnj10Qr8AAAMBiwAAAAsBnj9qQr8AAAMBiwAAABVBmiRJqEFsmUwIf//+qZYAAAMA8IAAAAAO\n",
       "QZ5CRRUsM/8AAAMA1IEAAAALAZ5hdEK/AAADAYsAAAALAZ5jakK/AAADAYsAAAAVQZpoSahBbJlM\n",
       "CH///qmWAAADAPCBAAAADkGehkUVLDP/AAADANSBAAAACwGepXRCvwAAAwGLAAAACwGep2pCvwAA\n",
       "AwGLAAAAFUGarEmoQWyZTAh///6plgAAAwDwgAAAAA5BnspFFSwz/wAAAwDUgQAAAAsBnul0Qr8A\n",
       "AAMBiwAAAAsBnutqQr8AAAMBiwAAABVBmvBJqEFsmUwIf//+qZYAAAMA8IEAAAAOQZ8ORRUsM/8A\n",
       "AAMA1IEAAAALAZ8tdEK/AAADAYsAAAALAZ8vakK/AAADAYsAAAAVQZs0SahBbJlMCH///qmWAAAD\n",
       "APCAAAAADkGfUkUVLDP/AAADANSBAAAACwGfcXRCvwAAAwGLAAAACwGfc2pCvwAAAwGLAAAAFUGb\n",
       "eEmoQWyZTAh3//6plgAAAwDwgQAAAA5Bn5ZFFSwz/wAAAwDUgAAAAAsBn7V0Qr8AAAMBiwAAAAsB\n",
       "n7dqQr8AAAMBiwAAABVBm7xJqEFsmUwId//+qZYAAAMA8IAAAAAOQZ/aRRUsM/8AAAMA1IEAAAAL\n",
       "AZ/5dEK/AAADAYsAAAALAZ/7akK/AAADAYsAAAAUQZvgSahBbJlMCG///qeEAAADAd0AAAAOQZ4e\n",
       "RRUsM/8AAAMA1IAAAAALAZ49dEK/AAADAYsAAAALAZ4/akK/AAADAYsAAAATQZojSahBbJlMCFf/\n",
       "/jhAAAAccAAAAA1BnkFFFSwv/wAAAwEfAAAACwGeYmpCvwAAAwGLAAAH1m1vb3YAAABsbXZoZAAA\n",
       "AAAAAAAAAAAAAAAAA+gAABOIAAEAAAEAAAAAAAAAAAAAAAABAAAAAAAAAAAAAAAAAAAAAQAAAAAA\n",
       "AAAAAAAAAAAAQAAAAAAAAAAAAAAAAAAAAAAAAAAAAAAAAAAAAAAAAAIAAAcAdHJhawAAAFx0a2hk\n",
       "AAAAAwAAAAAAAAAAAAAAAQAAAAAAABOIAAAAAAAAAAAAAAAAAAAAAAABAAAAAAAAAAAAAAAAAAAA\n",
       "AQAAAAAAAAAAAAAAAAAAQAAAAAGwAAABIAAAAAAAJGVkdHMAAAAcZWxzdAAAAAAAAAABAAATiAAA\n",
       "BAAAAQAAAAAGeG1kaWEAAAAgbWRoZAAAAAAAAAAAAAAAAAAAKAAAAMgAVcQAAAAAAC1oZGxyAAAA\n",
       "AAAAAAB2aWRlAAAAAAAAAAAAAAAAVmlkZW9IYW5kbGVyAAAABiNtaW5mAAAAFHZtaGQAAAABAAAA\n",
       "AAAAAAAAAAAkZGluZgAAABxkcmVmAAAAAAAAAAEAAAAMdXJsIAAAAAEAAAXjc3RibAAAALNzdHNk\n",
       "AAAAAAAAAAEAAACjYXZjMQAAAAAAAAABAAAAAAAAAAAAAAAAAAAAAAGwASAASAAAAEgAAAAAAAAA\n",
       "AQAAAAAAAAAAAAAAAAAAAAAAAAAAAAAAAAAAAAAAAAAAABj//wAAADFhdmNDAWQAFf/hABhnZAAV\n",
       "rNlBsJaEAAADAAQAAAMAoDxYtlgBAAZo6+PLIsAAAAAcdXVpZGtoQPJfJE/FujmlG88DI/MAAAAA\n",
       "AAAAGHN0dHMAAAAAAAAAAQAAAGQAAAIAAAAAFHN0c3MAAAAAAAAAAQAAAAEAAAMoY3R0cwAAAAAA\n",
       "AABjAAAAAQAABAAAAAABAAAKAAAAAAEAAAQAAAAAAQAAAAAAAAABAAACAAAAAAEAAAoAAAAAAQAA\n",
       "BAAAAAABAAAAAAAAAAEAAAIAAAAAAQAACgAAAAABAAAEAAAAAAEAAAAAAAAAAQAAAgAAAAABAAAK\n",
       "AAAAAAEAAAQAAAAAAQAAAAAAAAABAAACAAAAAAEAAAoAAAAAAQAABAAAAAABAAAAAAAAAAEAAAIA\n",
       "AAAAAQAACgAAAAABAAAEAAAAAAEAAAAAAAAAAQAAAgAAAAABAAAKAAAAAAEAAAQAAAAAAQAAAAAA\n",
       "AAABAAACAAAAAAEAAAoAAAAAAQAABAAAAAABAAAAAAAAAAEAAAIAAAAAAQAACgAAAAABAAAEAAAA\n",
       "AAEAAAAAAAAAAQAAAgAAAAABAAAKAAAAAAEAAAQAAAAAAQAAAAAAAAABAAACAAAAAAEAAAoAAAAA\n",
       "AQAABAAAAAABAAAAAAAAAAEAAAIAAAAAAQAACgAAAAABAAAEAAAAAAEAAAAAAAAAAQAAAgAAAAAB\n",
       "AAAKAAAAAAEAAAQAAAAAAQAAAAAAAAABAAACAAAAAAEAAAoAAAAAAQAABAAAAAABAAAAAAAAAAEA\n",
       "AAIAAAAAAQAACgAAAAABAAAEAAAAAAEAAAAAAAAAAQAAAgAAAAABAAAKAAAAAAEAAAQAAAAAAQAA\n",
       "AAAAAAABAAACAAAAAAEAAAoAAAAAAQAABAAAAAABAAAAAAAAAAEAAAIAAAAAAQAACgAAAAABAAAE\n",
       "AAAAAAEAAAAAAAAAAQAAAgAAAAABAAAKAAAAAAEAAAQAAAAAAQAAAAAAAAABAAACAAAAAAEAAAoA\n",
       "AAAAAQAABAAAAAABAAAAAAAAAAEAAAIAAAAAAQAACgAAAAABAAAEAAAAAAEAAAAAAAAAAQAAAgAA\n",
       "AAABAAAKAAAAAAEAAAQAAAAAAQAAAAAAAAABAAACAAAAAAEAAAoAAAAAAQAABAAAAAABAAAAAAAA\n",
       "AAEAAAIAAAAAAQAACgAAAAABAAAEAAAAAAEAAAAAAAAAAQAAAgAAAAABAAAIAAAAAAIAAAIAAAAA\n",
       "HHN0c2MAAAAAAAAAAQAAAAEAAABkAAAAAQAAAaRzdHN6AAAAAAAAAAAAAABkAAAC+gAAABMAAAAQ\n",
       "AAAADwAAAA8AAAAZAAAAEgAAAA8AAAAPAAAAGQAAABIAAAAPAAAADwAAABkAAAASAAAADwAAAA8A\n",
       "AAAZAAAAEgAAAA8AAAAPAAAAGQAAABIAAAAPAAAADwAAABkAAAASAAAADwAAAA8AAAAZAAAAEgAA\n",
       "AA8AAAAPAAAAGQAAABIAAAAPAAAADwAAABkAAAASAAAADwAAAA8AAAAZAAAAEgAAAA8AAAAPAAAA\n",
       "GQAAABIAAAAPAAAADwAAABkAAAASAAAADwAAAA8AAAAZAAAAEgAAAA8AAAAPAAAAGQAAABIAAAAP\n",
       "AAAADwAAABkAAAASAAAADwAAAA8AAAAZAAAAEgAAAA8AAAAPAAAAGQAAABIAAAAPAAAADwAAABkA\n",
       "AAASAAAADwAAAA8AAAAZAAAAEgAAAA8AAAAPAAAAGQAAABIAAAAPAAAADwAAABkAAAASAAAADwAA\n",
       "AA8AAAAZAAAAEgAAAA8AAAAPAAAAGAAAABIAAAAPAAAADwAAABcAAAARAAAADwAAABRzdGNvAAAA\n",
       "AAAAAAEAAAAsAAAAYnVkdGEAAABabWV0YQAAAAAAAAAhaGRscgAAAAAAAAAAbWRpcmFwcGwAAAAA\n",
       "AAAAAAAAAAAtaWxzdAAAACWpdG9vAAAAHWRhdGEAAAABAAAAAExhdmY1Ny44My4xMDA=\n",
       "\">\n",
       "  Your browser does not support the video tag.\n",
       "</video>"
      ],
      "text/plain": [
       "<matplotlib.animation.FuncAnimation at 0x7f73d7f72a90>"
      ]
     },
     "execution_count": 44,
     "metadata": {},
     "output_type": "execute_result"
    }
   ],
   "source": [
    "anim"
   ]
  }
 ],
 "metadata": {
  "kernelspec": {
   "display_name": "Python 3",
   "language": "python",
   "name": "python3"
  },
  "language_info": {
   "codemirror_mode": {
    "name": "ipython",
    "version": 3
   },
   "file_extension": ".py",
   "mimetype": "text/x-python",
   "name": "python",
   "nbconvert_exporter": "python",
   "pygments_lexer": "ipython3",
   "version": "3.6.7"
  }
 },
 "nbformat": 4,
 "nbformat_minor": 2
}
