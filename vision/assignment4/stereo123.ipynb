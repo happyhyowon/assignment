{
 "cells": [
  {
   "cell_type": "markdown",
   "metadata": {},
   "source": [
    "# Stereo "
   ]
  },
  {
   "cell_type": "markdown",
   "metadata": {},
   "source": [
    "A script for implementing stereo algorithms 1, 2, and 3 from the lecture slides"
   ]
  },
  {
   "cell_type": "code",
   "execution_count": 11,
   "metadata": {},
   "outputs": [],
   "source": [
    "import matplotlib as mpl\n",
    "import matplotlib.pyplot as plt\n",
    "import time\n",
    "import numpy as np"
   ]
  },
  {
   "cell_type": "code",
   "execution_count": 9,
   "metadata": {},
   "outputs": [],
   "source": [
    "# RGB to gray\n",
    "def rgb2gray(rgb):\n",
    "    return np.dot(rgb[..., :3], [0.299, 0.587, 0.114])"
   ]
  },
  {
   "cell_type": "code",
   "execution_count": 2,
   "metadata": {},
   "outputs": [],
   "source": [
    "def stereo1(img1, img2, dispRange):\n",
    "    # Load in both images, assumed to be RGBA 8bit per channel images\n",
    "    left = img1\n",
    "    right = img2    \n",
    "    w, h = left.shape  # assume that both images are same size   \n",
    "    \n",
    "    # Depth (or disparity) map\n",
    "    depth = np.zeros((w, h), np.uint8)\n",
    "    depth.shape = h, w\n",
    "    \n",
    "    kernel_half = int(windowSize / 2)    \n",
    "    offset_adjust = 255 / dispRange  # this is used to map depth map output to 0-255 range\n",
    "      \n",
    "    for y in range(h):      \n",
    "        print(\".\", end=\"\", flush=True)  # let the user know that something is happening (slowly!)\n",
    "        \n",
    "        for x in range(w):\n",
    "            best_offset = 0\n",
    "            prev_ssd = 65534\n",
    "            \n",
    "            for offset in range(dispRange):               \n",
    "                ssd = 0\n",
    "                ssd_temp = 0                            \n",
    "                \n",
    "                # v and u are the x,y of our local window search, used to ensure a good \n",
    "                # match- going by the squared differences of two pixels alone is insufficient, \n",
    "                # we want to go by the squared differences of the neighbouring pixels too\n",
    "                for v in range(1):\n",
    "                    for u in range(1):\n",
    "                        # iteratively sum the sum of squared differences value for this block\n",
    "                        # left[] and right[] are arrays of uint8, so converting them to int saves\n",
    "                        # potential overflow, and executes a lot faster \n",
    "                        ssd_temp = int(left[y+v, x+u]) - int(right[y+v, (x+u) - offset])  \n",
    "                        ssd += ssd_temp * ssd_temp              \n",
    "                \n",
    "                # if this value is smaller than the previous ssd at this block\n",
    "                # then it's theoretically a closer match. Store this value against\n",
    "                # this block..\n",
    "                if ssd < prev_ssd:\n",
    "                    prev_ssd = ssd\n",
    "                    best_offset = offset\n",
    "                            \n",
    "            # set depth output for this x,y location to the best match\n",
    "            depth[y, x] = best_offset * offset_adjust\n",
    "                                \n",
    "    return depth"
   ]
  },
  {
   "cell_type": "code",
   "execution_count": 13,
   "metadata": {},
   "outputs": [],
   "source": [
    "def stereo2(img1, img2, dispRange, windowSize):\n",
    "    # Load in both images, assumed to be RGBA 8bit per channel images\n",
    "    left = img1\n",
    "    right = img2    \n",
    "    w, h = left.shape  # assume that both images are same size   \n",
    "    \n",
    "    # Depth (or disparity) map\n",
    "    depth = np.zeros((w, h), np.uint8)\n",
    "    depth.shape = h, w\n",
    "       \n",
    "    kernel_half = int(windowSize / 2)    \n",
    "    offset_adjust = 255 / dispRange  # this is used to map depth map output to 0-255 range\n",
    "      \n",
    "    for y in range(kernel_half, h - kernel_half):      \n",
    "        print(\".\", end=\"\", flush=True)  # let the user know that something is happening (slowly!)\n",
    "        \n",
    "        for x in range(kernel_half, w - kernel_half):\n",
    "            best_offset = 0\n",
    "            prev_ssd = 65534\n",
    "            \n",
    "            for offset in range(dispRange):               \n",
    "                ssd = 0\n",
    "                ssd_temp = 0                            \n",
    "                \n",
    "                # v and u are the x,y of our local window search, used to ensure a good \n",
    "                # match- going by the squared differences of two pixels alone is insufficient, \n",
    "                # we want to go by the squared differences of the neighbouring pixels too\n",
    "                for v in range(-kernel_half, kernel_half):\n",
    "                    for u in range(-kernel_half, kernel_half):\n",
    "                        # iteratively sum the sum of squared differences value for this block\n",
    "                        # left[] and right[] are arrays of uint8, so converting them to int saves\n",
    "                        # potential overflow, and executes a lot faster \n",
    "                        ssd_temp = int(left[y+v, x+u]) - int(right[y+v, (x+u) - offset])  \n",
    "                        ssd += ssd_temp * ssd_temp              \n",
    "                \n",
    "                # if this value is smaller than the previous ssd at this block\n",
    "                # then it's theoretically a closer match. Store this value against\n",
    "                # this block..\n",
    "                if ssd < prev_ssd:\n",
    "                    prev_ssd = ssd\n",
    "                    best_offset = offset\n",
    "                            \n",
    "            # set depth output for this x,y location to the best match\n",
    "            depth[y, x] = best_offset * offset_adjust\n",
    "                                \n",
    "    return depth"
   ]
  },
  {
   "cell_type": "code",
   "execution_count": 7,
   "metadata": {},
   "outputs": [],
   "source": [
    "def stereo3(img1, img2, dispRange, windowSize, lamda):\n",
    "    raise NotImplementedError"
   ]
  },
  {
   "cell_type": "code",
   "execution_count": 14,
   "metadata": {},
   "outputs": [
    {
     "name": "stdout",
     "output_type": "stream",
     "text": [
      "........................................................................................................................................................................................................................................................................................................................................................................................"
     ]
    },
    {
     "ename": "IndexError",
     "evalue": "index 380 is out of bounds for axis 0 with size 380",
     "output_type": "error",
     "traceback": [
      "\u001b[0;31m\u001b[0m",
      "\u001b[0;31mIndexError\u001b[0mTraceback (most recent call last)",
      "\u001b[0;32m<ipython-input-14-9f1b88b92078>\u001b[0m in \u001b[0;36m<module>\u001b[0;34m\u001b[0m\n\u001b[1;32m      9\u001b[0m \u001b[0mdispRange\u001b[0m \u001b[0;34m=\u001b[0m \u001b[0;36m30\u001b[0m\u001b[0;34m\u001b[0m\u001b[0;34m\u001b[0m\u001b[0m\n\u001b[1;32m     10\u001b[0m \u001b[0;34m\u001b[0m\u001b[0m\n\u001b[0;32m---> 11\u001b[0;31m \u001b[0mdisperity_map1\u001b[0m \u001b[0;34m=\u001b[0m \u001b[0mstereo2\u001b[0m\u001b[0;34m(\u001b[0m\u001b[0mleft\u001b[0m\u001b[0;34m,\u001b[0m \u001b[0mright\u001b[0m\u001b[0;34m,\u001b[0m \u001b[0mdispRange\u001b[0m\u001b[0;34m,\u001b[0m \u001b[0mwindowSize\u001b[0m\u001b[0;34m)\u001b[0m  \u001b[0;31m# 6x6 local search kernel, 30 pixel search range\u001b[0m\u001b[0;34m\u001b[0m\u001b[0;34m\u001b[0m\u001b[0m\n\u001b[0m\u001b[1;32m     12\u001b[0m \u001b[0mdisperity_map2\u001b[0m \u001b[0;34m=\u001b[0m \u001b[0mstereo2\u001b[0m\u001b[0;34m(\u001b[0m\u001b[0mright\u001b[0m\u001b[0;34m,\u001b[0m \u001b[0mleft\u001b[0m\u001b[0;34m,\u001b[0m \u001b[0mdispRange\u001b[0m\u001b[0;34m,\u001b[0m \u001b[0mwindowSize\u001b[0m\u001b[0;34m)\u001b[0m\u001b[0;34m\u001b[0m\u001b[0;34m\u001b[0m\u001b[0m\n",
      "\u001b[0;32m<ipython-input-13-be8932c2d16b>\u001b[0m in \u001b[0;36mstereo2\u001b[0;34m(img1, img2, dispRange, windowSize)\u001b[0m\n\u001b[1;32m     31\u001b[0m                         \u001b[0;31m# left[] and right[] are arrays of uint8, so converting them to int saves\u001b[0m\u001b[0;34m\u001b[0m\u001b[0;34m\u001b[0m\u001b[0;34m\u001b[0m\u001b[0m\n\u001b[1;32m     32\u001b[0m                         \u001b[0;31m# potential overflow, and executes a lot faster\u001b[0m\u001b[0;34m\u001b[0m\u001b[0;34m\u001b[0m\u001b[0;34m\u001b[0m\u001b[0m\n\u001b[0;32m---> 33\u001b[0;31m                         \u001b[0mssd_temp\u001b[0m \u001b[0;34m=\u001b[0m \u001b[0mint\u001b[0m\u001b[0;34m(\u001b[0m\u001b[0mleft\u001b[0m\u001b[0;34m[\u001b[0m\u001b[0my\u001b[0m\u001b[0;34m+\u001b[0m\u001b[0mv\u001b[0m\u001b[0;34m,\u001b[0m \u001b[0mx\u001b[0m\u001b[0;34m+\u001b[0m\u001b[0mu\u001b[0m\u001b[0;34m]\u001b[0m\u001b[0;34m)\u001b[0m \u001b[0;34m-\u001b[0m \u001b[0mint\u001b[0m\u001b[0;34m(\u001b[0m\u001b[0mright\u001b[0m\u001b[0;34m[\u001b[0m\u001b[0my\u001b[0m\u001b[0;34m+\u001b[0m\u001b[0mv\u001b[0m\u001b[0;34m,\u001b[0m \u001b[0;34m(\u001b[0m\u001b[0mx\u001b[0m\u001b[0;34m+\u001b[0m\u001b[0mu\u001b[0m\u001b[0;34m)\u001b[0m \u001b[0;34m-\u001b[0m \u001b[0moffset\u001b[0m\u001b[0;34m]\u001b[0m\u001b[0;34m)\u001b[0m\u001b[0;34m\u001b[0m\u001b[0;34m\u001b[0m\u001b[0m\n\u001b[0m\u001b[1;32m     34\u001b[0m                         \u001b[0mssd\u001b[0m \u001b[0;34m+=\u001b[0m \u001b[0mssd_temp\u001b[0m \u001b[0;34m*\u001b[0m \u001b[0mssd_temp\u001b[0m\u001b[0;34m\u001b[0m\u001b[0;34m\u001b[0m\u001b[0m\n\u001b[1;32m     35\u001b[0m \u001b[0;34m\u001b[0m\u001b[0m\n",
      "\u001b[0;31mIndexError\u001b[0m: index 380 is out of bounds for axis 0 with size 380"
     ]
    }
   ],
   "source": [
    "img1 = \"sawtooth/im2.jpg\"\n",
    "img2 = \"sawtooth/im6.jpg\"\n",
    "\n",
    "left = rgb2gray(plt.imread(img1))\n",
    "right = rgb2gray(plt.imread(img2))\n",
    "\n",
    "\n",
    "windowSize = 6\n",
    "dispRange = 30\n",
    "\n",
    "disperity_map1 = stereo2(left, right, dispRange, windowSize)  # 6x6 local search kernel, 30 pixel search range\n",
    "disperity_map2 = stereo2(right, left, dispRange, windowSize)"
   ]
  },
  {
   "cell_type": "code",
   "execution_count": 8,
   "metadata": {},
   "outputs": [
    {
     "data": {
      "text/plain": [
       "65534"
      ]
     },
     "execution_count": 8,
     "metadata": {},
     "output_type": "execute_result"
    }
   ],
   "source": [
    "0xfffE"
   ]
  },
  {
   "cell_type": "code",
   "execution_count": null,
   "metadata": {},
   "outputs": [],
   "source": []
  }
 ],
 "metadata": {
  "kernelspec": {
   "display_name": "Python 3",
   "language": "python",
   "name": "python3"
  },
  "language_info": {
   "codemirror_mode": {
    "name": "ipython",
    "version": 3
   },
   "file_extension": ".py",
   "mimetype": "text/x-python",
   "name": "python",
   "nbconvert_exporter": "python",
   "pygments_lexer": "ipython3",
   "version": "3.6.7"
  }
 },
 "nbformat": 4,
 "nbformat_minor": 2
}
