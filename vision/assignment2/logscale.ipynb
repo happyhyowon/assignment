{
 "cells": [
  {
   "cell_type": "code",
   "execution_count": 1,
   "metadata": {},
   "outputs": [],
   "source": [
    "import matplotlib as mpl\n",
    "import matplotlib.pyplot as plt\n",
    "import time\n",
    "import numpy as np\n",
    "import math"
   ]
  },
  {
   "cell_type": "code",
   "execution_count": 2,
   "metadata": {},
   "outputs": [],
   "source": [
    "def rgb2gray(rgb):\n",
    "    return np.dot(rgb[..., :3], [0.2989, 0.5870, 0.1140])"
   ]
  },
  {
   "cell_type": "code",
   "execution_count": 3,
   "metadata": {},
   "outputs": [],
   "source": [
    "# convolution 2D\n",
    "def conv2d(img, kernel, padding='same'):\n",
    "    # Error handling\n",
    "    if kernel.shape[0] != kernel.shape[1]:\n",
    "        print(\"Use square filter!\")\n",
    "        return None\n",
    "    \n",
    "    if kernel.shape[0]%2 == 0 and kernel.shape[1]%2 == 0:\n",
    "        print(\"filter size has to be odd\")\n",
    "        return None\n",
    "    \n",
    "    # Create result matrix\n",
    "    result = np.zeros_like(img)\n",
    "    \n",
    "    # Calculate kernel size\n",
    "    kernel_size = kernel.shape[0]\n",
    "    \n",
    "    # same padding\n",
    "    if padding=='same':\n",
    "        pad_size = int((kernel_size - 1) / 2)\n",
    "    else:\n",
    "        pad_size = 0\n",
    "    img = np.pad(img, pad_size, mode='constant')\n",
    "    \n",
    "    # convolution\n",
    "    width, height = img.shape\n",
    "    offset = int(kernel_size / 2)\n",
    "    for x in range(offset, width-offset):\n",
    "        for y in range(offset, height-offset):\n",
    "            result[x-offset, y-offset] = np.sum(img[x-offset:x+offset+1, y-offset:y+offset+1] * kernel)\n",
    "            \n",
    "    return result"
   ]
  },
  {
   "cell_type": "code",
   "execution_count": 4,
   "metadata": {},
   "outputs": [],
   "source": [
    "def LoG(sigma=1, stencil=19):\n",
    "    \"\"\"\n",
    "        Parameters:\n",
    "            1. sigma : the width of the Gaussian kernel\n",
    "            2. stencil : the overall image size of the filter (default 19x19)\n",
    "            \n",
    "        Return:\n",
    "            1. a numpy array with the filter values\n",
    "    \"\"\"\n",
    "    Log_filter = np.zeros((stencil,stencil))\n",
    "    for x in range(stencil):\n",
    "        for y in range(stencil):\n",
    "            tmp = ((x - stencil/2)**2 + (y - stencil/2)**2)/(2*(sigma**2))\n",
    "            Log_filter[x, y] = (-1/(math.pi*(sigma**4)))*(1-tmp)*np.exp(-tmp)\n",
    "    return LoG_filter"
   ]
  },
  {
   "cell_type": "code",
   "execution_count": 5,
   "metadata": {},
   "outputs": [],
   "source": [
    "def filterImg(img, fil):\n",
    "    \"\"\"\n",
    "        Paramters:\n",
    "            1. img : input image\n",
    "            2. fil : filter\n",
    "            \n",
    "        Return:\n",
    "            1. the filtered image\n",
    "    \"\"\"\n",
    "    return conv2d(img.copy(), fil, padding=\"same\")"
   ]
  },
  {
   "cell_type": "code",
   "execution_count": 6,
   "metadata": {},
   "outputs": [
    {
     "ename": "NameError",
     "evalue": "name 'LoG_filter' is not defined",
     "output_type": "error",
     "traceback": [
      "\u001b[0;31m---------------------------------------------------------------------------\u001b[0m",
      "\u001b[0;31mNameError\u001b[0m                                 Traceback (most recent call last)",
      "\u001b[0;32m<ipython-input-6-d0465e7d03ae>\u001b[0m in \u001b[0;36m<module>\u001b[0;34m\u001b[0m\n\u001b[1;32m      3\u001b[0m \u001b[0mfig\u001b[0m \u001b[0;34m=\u001b[0m \u001b[0mplt\u001b[0m\u001b[0;34m.\u001b[0m\u001b[0mfigure\u001b[0m\u001b[0;34m(\u001b[0m\u001b[0mfigsize\u001b[0m\u001b[0;34m=\u001b[0m \u001b[0;34m(\u001b[0m\u001b[0;36m15\u001b[0m\u001b[0;34m,\u001b[0m\u001b[0;36m10\u001b[0m\u001b[0;34m)\u001b[0m\u001b[0;34m)\u001b[0m\u001b[0;34m\u001b[0m\u001b[0;34m\u001b[0m\u001b[0m\n\u001b[1;32m      4\u001b[0m \u001b[0;32mfor\u001b[0m \u001b[0msigma\u001b[0m \u001b[0;32min\u001b[0m \u001b[0msigmas\u001b[0m\u001b[0;34m:\u001b[0m\u001b[0;34m\u001b[0m\u001b[0;34m\u001b[0m\u001b[0m\n\u001b[0;32m----> 5\u001b[0;31m     \u001b[0mLoG_filter\u001b[0m \u001b[0;34m=\u001b[0m \u001b[0mLoG\u001b[0m\u001b[0;34m(\u001b[0m\u001b[0msigma\u001b[0m\u001b[0;34m=\u001b[0m\u001b[0msigma\u001b[0m\u001b[0;34m)\u001b[0m\u001b[0;34m\u001b[0m\u001b[0;34m\u001b[0m\u001b[0m\n\u001b[0m\u001b[1;32m      6\u001b[0m     \u001b[0max\u001b[0m \u001b[0;34m=\u001b[0m \u001b[0mfig\u001b[0m\u001b[0;34m.\u001b[0m\u001b[0madd_subplot\u001b[0m\u001b[0;34m(\u001b[0m\u001b[0;36m2\u001b[0m\u001b[0;34m,\u001b[0m \u001b[0;36m5\u001b[0m\u001b[0;34m,\u001b[0m \u001b[0msigma\u001b[0m\u001b[0;34m)\u001b[0m\u001b[0;34m\u001b[0m\u001b[0;34m\u001b[0m\u001b[0m\n\u001b[1;32m      7\u001b[0m     \u001b[0max\u001b[0m\u001b[0;34m.\u001b[0m\u001b[0mimshow\u001b[0m\u001b[0;34m(\u001b[0m\u001b[0mLoG_filter\u001b[0m\u001b[0;34m,\u001b[0m \u001b[0mcmap\u001b[0m\u001b[0;34m=\u001b[0m\u001b[0;34m'gray'\u001b[0m\u001b[0;34m)\u001b[0m\u001b[0;34m\u001b[0m\u001b[0;34m\u001b[0m\u001b[0m\n",
      "\u001b[0;32m<ipython-input-4-3a68f73fb456>\u001b[0m in \u001b[0;36mLoG\u001b[0;34m(sigma, stencil)\u001b[0m\n\u001b[1;32m     13\u001b[0m             \u001b[0mtmp\u001b[0m \u001b[0;34m=\u001b[0m \u001b[0;34m(\u001b[0m\u001b[0;34m(\u001b[0m\u001b[0mx\u001b[0m \u001b[0;34m-\u001b[0m \u001b[0mstencil\u001b[0m\u001b[0;34m/\u001b[0m\u001b[0;36m2\u001b[0m\u001b[0;34m)\u001b[0m\u001b[0;34m**\u001b[0m\u001b[0;36m2\u001b[0m \u001b[0;34m+\u001b[0m \u001b[0;34m(\u001b[0m\u001b[0my\u001b[0m \u001b[0;34m-\u001b[0m \u001b[0mstencil\u001b[0m\u001b[0;34m/\u001b[0m\u001b[0;36m2\u001b[0m\u001b[0;34m)\u001b[0m\u001b[0;34m**\u001b[0m\u001b[0;36m2\u001b[0m\u001b[0;34m)\u001b[0m\u001b[0;34m/\u001b[0m\u001b[0;34m(\u001b[0m\u001b[0;36m2\u001b[0m\u001b[0;34m*\u001b[0m\u001b[0;34m(\u001b[0m\u001b[0msigma\u001b[0m\u001b[0;34m**\u001b[0m\u001b[0;36m2\u001b[0m\u001b[0;34m)\u001b[0m\u001b[0;34m)\u001b[0m\u001b[0;34m\u001b[0m\u001b[0;34m\u001b[0m\u001b[0m\n\u001b[1;32m     14\u001b[0m             \u001b[0mLog_filter\u001b[0m\u001b[0;34m[\u001b[0m\u001b[0mx\u001b[0m\u001b[0;34m,\u001b[0m \u001b[0my\u001b[0m\u001b[0;34m]\u001b[0m \u001b[0;34m=\u001b[0m \u001b[0;34m(\u001b[0m\u001b[0;34m-\u001b[0m\u001b[0;36m1\u001b[0m\u001b[0;34m/\u001b[0m\u001b[0;34m(\u001b[0m\u001b[0mmath\u001b[0m\u001b[0;34m.\u001b[0m\u001b[0mpi\u001b[0m\u001b[0;34m*\u001b[0m\u001b[0;34m(\u001b[0m\u001b[0msigma\u001b[0m\u001b[0;34m**\u001b[0m\u001b[0;36m4\u001b[0m\u001b[0;34m)\u001b[0m\u001b[0;34m)\u001b[0m\u001b[0;34m)\u001b[0m\u001b[0;34m*\u001b[0m\u001b[0;34m(\u001b[0m\u001b[0;36m1\u001b[0m\u001b[0;34m-\u001b[0m\u001b[0mtmp\u001b[0m\u001b[0;34m)\u001b[0m\u001b[0;34m*\u001b[0m\u001b[0mnp\u001b[0m\u001b[0;34m.\u001b[0m\u001b[0mexp\u001b[0m\u001b[0;34m(\u001b[0m\u001b[0;34m-\u001b[0m\u001b[0mtmp\u001b[0m\u001b[0;34m)\u001b[0m\u001b[0;34m\u001b[0m\u001b[0;34m\u001b[0m\u001b[0m\n\u001b[0;32m---> 15\u001b[0;31m     \u001b[0;32mreturn\u001b[0m \u001b[0mLoG_filter\u001b[0m\u001b[0;34m\u001b[0m\u001b[0;34m\u001b[0m\u001b[0m\n\u001b[0m",
      "\u001b[0;31mNameError\u001b[0m: name 'LoG_filter' is not defined"
     ]
    },
    {
     "data": {
      "text/plain": [
       "<Figure size 1080x720 with 0 Axes>"
      ]
     },
     "metadata": {},
     "output_type": "display_data"
    }
   ],
   "source": [
    "# Log filters\n",
    "sigmas = [sigma+1 for sigma in range(10)]\n",
    "fig = plt.figure(figsize= (15,10))\n",
    "for sigma in sigmas:\n",
    "    LoG_filter = LoG(sigma=sigma)\n",
    "    ax = fig.add_subplot(2, 5, sigma)\n",
    "    ax.imshow(LoG_filter, cmap='gray')\n",
    "    ax.set_title(\"sigma : %d\\nstencil size : %dpixel\" %(sigma, 19))"
   ]
  },
  {
   "cell_type": "code",
   "execution_count": null,
   "metadata": {},
   "outputs": [],
   "source": [
    "# read image\n",
    "img = mpl.image.imread(\"sunflower.jpg\")\n",
    "img = rgb2gray(img)\n",
    "plt.imshow(img, cmap='gray')"
   ]
  },
  {
   "cell_type": "code",
   "execution_count": null,
   "metadata": {},
   "outputs": [],
   "source": [
    "# Log filters\n",
    "sigmas = [sigma+1 for sigma in range(10)]\n",
    "fig = plt.figure(figsize= (15,10))\n",
    "for sigma in sigmas:\n",
    "    LoG_filter = LoG(sigma=sigma)\n",
    "    result = filterImg(img, LoG_filter)\n",
    "    ax = fig.add_subplot(2, 5, sigma)\n",
    "    ax.imshow(result, cmap='gray')\n",
    "    ax.set_title(\"sigma : %d\\nstencil size : %dpixel\" %(sigma, 19))"
   ]
  }
 ],
 "metadata": {
  "kernelspec": {
   "display_name": "torchflow",
   "language": "python",
   "name": "torchflow"
  },
  "language_info": {
   "codemirror_mode": {
    "name": "ipython",
    "version": 3
   },
   "file_extension": ".py",
   "mimetype": "text/x-python",
   "name": "python",
   "nbconvert_exporter": "python",
   "pygments_lexer": "ipython3",
   "version": "3.7.3"
  }
 },
 "nbformat": 4,
 "nbformat_minor": 2
}
